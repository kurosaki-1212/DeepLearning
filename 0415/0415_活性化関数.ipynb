{
  "nbformat": 4,
  "nbformat_minor": 0,
  "metadata": {
    "colab": {
      "name": "0415_活性化関数.ipynb",
      "provenance": [],
      "collapsed_sections": []
    },
    "kernelspec": {
      "name": "python3",
      "display_name": "Python 3"
    },
    "language_info": {
      "name": "python"
    }
  },
  "cells": [
    {
      "cell_type": "markdown",
      "source": [
        "ステップ関数"
      ],
      "metadata": {
        "id": "bV4ON7gwIRpb"
      }
    },
    {
      "cell_type": "code",
      "execution_count": null,
      "metadata": {
        "id": "j3pkKJgBILbt"
      },
      "outputs": [],
      "source": [
        "import numpy as np\n",
        "import matplotlib.pyplot as plt\n",
        "\n",
        "def step_fumction(x):\n",
        "  # xが0以下なら0、xが0を超えたら1を出力する\n",
        "  return np.where(x<=0, 0, 1)\n",
        "\n",
        "# linspace(最初の数字, 最後の数字, 表示したい個数)\n",
        "x = np.linspace(-5, 5)\n",
        "y = step_fumction(x)\n",
        "\n",
        "plt.plot(x, y)\n",
        "plt.show()"
      ]
    },
    {
      "cell_type": "markdown",
      "source": [
        "シグモイド関数"
      ],
      "metadata": {
        "id": "pSI6Pc-5IWXH"
      }
    },
    {
      "cell_type": "code",
      "source": [
        "import numpy as np\n",
        "import matplotlib.pyplot as plt\n",
        "\n",
        "def sigmoid_function(x):\n",
        "  return 1/(1+np.exp(-x))\n",
        "\n",
        "x = np.linspace(-5, 5)\n",
        "y = sigmoid_function(x)\n",
        "\n",
        "plt.plot(x, y)\n",
        "plt.show()"
      ],
      "metadata": {
        "id": "lqp84P9DIa-n"
      },
      "execution_count": null,
      "outputs": []
    },
    {
      "cell_type": "markdown",
      "source": [
        "tanh(hyperbolic tangent ハイパボリックタンジェント)"
      ],
      "metadata": {
        "id": "upZlMYg5IdVw"
      }
    },
    {
      "cell_type": "code",
      "source": [
        "import numpy as np\n",
        "import matplotlib.pyplot as plt\n",
        "\n",
        "def tanh_function(x):\n",
        "  return np.tanh(x)\n",
        "\n",
        "x = np.linspace(-5, 5)\n",
        "y = tanh_function(x)\n",
        "\n",
        "plt.plot(x, y)\n",
        "plt.show()"
      ],
      "metadata": {
        "id": "A7wgf3tQIfW9"
      },
      "execution_count": null,
      "outputs": []
    },
    {
      "cell_type": "markdown",
      "source": [
        "ReLU"
      ],
      "metadata": {
        "id": "84t9_DZIIp0B"
      }
    },
    {
      "cell_type": "code",
      "source": [
        "# 勾配学習に強い\n",
        "import numpy as np\n",
        "import matplotlib.pyplot as plt\n",
        "\n",
        "def relu_function(x):\n",
        "  return np.where(x<=0, 0, x)\n",
        "\n",
        "x = np.linspace(-5, 5)\n",
        "y = relu_function(x)\n",
        "\n",
        "plt.plot(x, y)\n",
        "plt.show()"
      ],
      "metadata": {
        "id": "7YKxAbfyIshw"
      },
      "execution_count": null,
      "outputs": []
    },
    {
      "cell_type": "markdown",
      "source": [
        "恒等関数"
      ],
      "metadata": {
        "id": "Pod9Rg1VJtGL"
      }
    },
    {
      "cell_type": "code",
      "source": [
        "# 回帰によく使われる\n",
        "import numpy as np\n",
        "import matplotlib.pyplot as plt\n",
        "\n",
        "x = np.linspace(-5, 5)\n",
        "y = x\n",
        "\n",
        "plt.plot(x, y)\n",
        "plt.show()"
      ],
      "metadata": {
        "id": "eEnu334mJtcy"
      },
      "execution_count": null,
      "outputs": []
    },
    {
      "cell_type": "code",
      "source": [
        ""
      ],
      "metadata": {
        "id": "5IKy90yKobsQ"
      },
      "execution_count": null,
      "outputs": []
    },
    {
      "cell_type": "markdown",
      "source": [
        "ソフトマックス関数"
      ],
      "metadata": {
        "id": "2RyQNZlPNzPE"
      }
    },
    {
      "cell_type": "code",
      "source": [
        "# 分類によく使われる\n",
        "# 出力層によく使われる\n",
        "# 出力地の合計を１にする\n",
        "import numpy as np\n",
        "\n",
        "def softmax_function(x):\n",
        "  return np.exp(x)/np.sum(np.exp(x))\n",
        "\n",
        "y = softmax_function(np.array([1, 2, 3]))\n",
        "\n",
        "print(y)"
      ],
      "metadata": {
        "colab": {
          "base_uri": "https://localhost:8080/"
        },
        "id": "QomlL-oMNzq_",
        "outputId": "2efada04-0160-4693-ebd4-0bb14f63450a"
      },
      "execution_count": null,
      "outputs": [
        {
          "output_type": "stream",
          "name": "stdout",
          "text": [
            "[0.09003057 0.24472847 0.66524096]\n"
          ]
        }
      ]
    }
  ]
}