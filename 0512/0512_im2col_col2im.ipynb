{
  "cells": [
    {
      "cell_type": "markdown",
      "metadata": {
        "id": "kme7_yb_6-Lk"
      },
      "source": [
        "### 7.2.3 im2colの実装 -シンプルなim2col-"
      ]
    },
    {
      "cell_type": "code",
      "execution_count": null,
      "metadata": {
        "colab": {
          "base_uri": "https://localhost:8080/"
        },
        "id": "FKUu2Cep6-Lo",
        "outputId": "6c2a01b0-4810-4568-fd47-21e0659ac950"
      },
      "outputs": [
        {
          "output_type": "stream",
          "name": "stdout",
          "text": [
            "[[ 1.  2.  3.  5.  6.  7.  9. 10. 11.]\n",
            " [ 2.  3.  4.  6.  7.  8. 10. 11. 12.]\n",
            " [ 5.  6.  7.  9. 10. 11. 13. 14. 15.]\n",
            " [ 6.  7.  8. 10. 11. 12. 14. 15. 16.]]\n"
          ]
        }
      ],
      "source": [
        "import numpy as np\n",
        "\n",
        "def im2col(image, flt_h, flt_w, out_h, out_w): # 入力画像、フィルタの高さ、幅、出力画像の高さ、幅\n",
        "   \n",
        "    img_h, img_w = image.shape # 入力画像の高さ、幅\n",
        "\n",
        "    cols = np.zeros((flt_h*flt_w, out_h*out_w)) # 生成される行列のサイズ\n",
        "\n",
        "    for h in range(out_h):\n",
        "        h_lim = h + flt_h\n",
        "        for w in range(out_w):\n",
        "            w_lim = w + flt_w\n",
        "            cols[:, h*out_w+w] = img[h:h_lim, w:w_lim].reshape(-1)\n",
        "\n",
        "    return cols\n",
        "\n",
        "# 入力するデータ\n",
        "img = np.array([[1, 2, 3, 4],\n",
        "                [5, 6, 7, 8],\n",
        "                [9, 10,11,12],\n",
        "                [13,14,15,16]])\n",
        "# im2col関数を呼び出し、新たな行列を作成する\n",
        "cols = im2col(img, 2, 2, 3, 3)\n",
        "# 結果の表示\n",
        "print(cols)"
      ]
    },
    {
      "cell_type": "code",
      "source": [
        "# 入力するデータ\n",
        "img = np.array([[1, 1, 1, 1, 1, 1],\n",
        "                [2, 2, 2, 2, 2, 2],\n",
        "                [3, 3, 3, 3, 3, 3],\n",
        "                [4, 4, 4, 4, 4, 4],\n",
        "                [5, 5, 5, 5, 5, 5]])\n",
        "# im2col関数を呼び出し、新たな行列を作成する\n",
        "# 上記のimgを入力データとする場合、引数が何になるか考えて空欄に入力してください。\n",
        "# フィルタ数は2*2とします。\n",
        "# ストライドは1とします。\n",
        "# cols = im2col(img, 2, 2, 4, 5)\n",
        "cols = im2col(img, 2, 2, 4, 5)\n",
        "# 結果の表示\n",
        "print(cols)"
      ],
      "metadata": {
        "colab": {
          "base_uri": "https://localhost:8080/"
        },
        "id": "LLt4QlXw7VBR",
        "outputId": "956cab97-13f5-4b1f-ba0a-bc3f17370d80"
      },
      "execution_count": null,
      "outputs": [
        {
          "output_type": "stream",
          "name": "stdout",
          "text": [
            "[[1. 1. 1. 1. 1. 2. 2. 2. 2. 2. 3. 3. 3. 3. 3. 4. 4. 4. 4. 4.]\n",
            " [1. 1. 1. 1. 1. 2. 2. 2. 2. 2. 3. 3. 3. 3. 3. 4. 4. 4. 4. 4.]\n",
            " [2. 2. 2. 2. 2. 3. 3. 3. 3. 3. 4. 4. 4. 4. 4. 5. 5. 5. 5. 5.]\n",
            " [2. 2. 2. 2. 2. 3. 3. 3. 3. 3. 4. 4. 4. 4. 4. 5. 5. 5. 5. 5.]]\n"
          ]
        }
      ]
    },
    {
      "cell_type": "code",
      "execution_count": null,
      "metadata": {
        "id": "xBfpFKf56-Lq"
      },
      "outputs": [],
      "source": [
        "import numpy as np\n",
        "\n",
        "def im2col(image, flt_h, flt_w, out_h, out_w):\n",
        "   \n",
        "    img_h, img_w = image.shape\n",
        "    cols = np.zeros((flt_h, flt_w, out_h, out_w))\n",
        "\n",
        "    for h in range(flt_h):\n",
        "        h_lim = h + out_h\n",
        "        for w in range(flt_w):\n",
        "            w_lim = w + out_w\n",
        "            cols[h, w, :, :] = img[h:h_lim, w:w_lim]\n",
        "\n",
        "    cols = cols.reshape(flt_h*flt_w, out_h*out_w)\n",
        "\n",
        "    return cols\n",
        "\n",
        "img = np.array([[1, 2, 3, 4],\n",
        "                [5, 6, 7, 8],\n",
        "                [9, 10,11,12],\n",
        "                [13,14,15,16]])\n",
        "cols = im2col(img, 2, 2, 3, 3)\n",
        "print(cols)"
      ]
    },
    {
      "cell_type": "markdown",
      "metadata": {
        "id": "FgOa_wSv6-Lr"
      },
      "source": [
        "### 7.2.4 im2colの実装 -im2colの実用化-"
      ]
    },
    {
      "cell_type": "code",
      "execution_count": null,
      "metadata": {
        "id": "IHco_SK26-Lr"
      },
      "outputs": [],
      "source": [
        "def im2col(images, flt_h, flt_w, out_h, out_w):\n",
        "   \n",
        "    n_bt, n_ch, img_h, img_w = images.shape # バッチサイズ、チャンネル数、入力画像高さ、幅\n",
        "    \n",
        "    cols = np.zeros((n_bt, n_ch, flt_h, flt_w, out_h, out_w))\n",
        "\n",
        "    for h in range(flt_h):\n",
        "        h_lim = h + out_h\n",
        "        for w in range(flt_w):\n",
        "            w_lim = w + out_w\n",
        "            cols[:, :, h, w, :, :] = images[:, :, h:h_lim, w:w_lim]\n",
        "\n",
        "    cols = cols.transpose(1, 2, 3, 0, 4, 5).reshape(n_ch*flt_h*flt_w, n_bt*out_h*out_w)\n",
        "    return cols\n",
        "\n",
        "img = np.array([[[[1, 2, 3, 4],\n",
        "                  [5, 6, 7, 8],\n",
        "                  [9, 10,11,12],\n",
        "                  [13,14,15,16]]]])\n",
        "cols = im2col(img, 2, 2, 3, 3)\n",
        "print(cols)"
      ]
    },
    {
      "cell_type": "code",
      "execution_count": null,
      "metadata": {
        "id": "Wbe7G0tA6-Ls"
      },
      "outputs": [],
      "source": [
        "def im2col(images, flt_h, flt_w, out_h, out_w, stride, pad):\n",
        "   \n",
        "    n_bt, n_ch, img_h, img_w = images.shape\n",
        "    \n",
        "    img_pad = np.pad(images, [(0,0), (0,0), (pad, pad), (pad, pad)], \"constant\")\n",
        "    cols = np.zeros((n_bt, n_ch, flt_h, flt_w, out_h, out_w))\n",
        "\n",
        "    for h in range(flt_h):\n",
        "        h_lim = h + stride*out_h\n",
        "        for w in range(flt_w):\n",
        "            w_lim = w + stride*out_w\n",
        "            cols[:, :, h, w, :, :] = img_pad[:, :, h:h_lim:stride, w:w_lim:stride]\n",
        "\n",
        "    cols = cols.transpose(1, 2, 3, 0, 4, 5).reshape(n_ch*flt_h*flt_w, n_bt*out_h*out_w)\n",
        "    return cols\n",
        "\n",
        "img = np.array([[[[1, 2, 3, 4],\n",
        "                  [5, 6, 7, 8],\n",
        "                  [9, 10,11,12],\n",
        "                  [13,14,15,16]]]])\n",
        "cols = im2col(img, 2, 2, 3, 3, 1, 0)\n",
        "print(cols)"
      ]
    },
    {
      "cell_type": "markdown",
      "metadata": {
        "id": "9HWKnksN6-Lt"
      },
      "source": [
        "### 7.2.6 col2imの実装"
      ]
    },
    {
      "cell_type": "code",
      "execution_count": null,
      "metadata": {
        "colab": {
          "base_uri": "https://localhost:8080/"
        },
        "id": "zdIFLPmd6-Lt",
        "outputId": "1ebffacf-3602-4678-9e32-38ce86e63b1b"
      },
      "outputs": [
        {
          "output_type": "stream",
          "name": "stdout",
          "text": [
            "[[[[1. 2. 1.]\n",
            "   [2. 4. 2.]\n",
            "   [1. 2. 1.]]]]\n"
          ]
        }
      ],
      "source": [
        "def col2im(cols, img_shape, flt_h, flt_w, out_h, out_w, stride, pad):\n",
        " \n",
        "    n_bt, n_ch, img_h, img_w = img_shape\n",
        "    \n",
        "    cols = cols.reshape(n_ch, flt_h, flt_w, n_bt, out_h, out_w, ).transpose(3, 0, 1, 2, 4, 5)\n",
        "    images = np.zeros((n_bt, n_ch, img_h+2*pad+stride-1, img_w+2*pad+stride-1))\n",
        "    \n",
        "    for h in range(flt_h):\n",
        "        h_lim = h + stride*out_h\n",
        "        for w in range(flt_w):\n",
        "            w_lim = w + stride*out_w\n",
        "            images[:, :, h:h_lim:stride, w:w_lim:stride] += cols[:, :, h, w, :, :]\n",
        "\n",
        "    return images[:, :, pad:img_h+pad, pad:img_w+pad]\n",
        "\n",
        "cols = np.ones((4, 4))\n",
        "img_shape = (1, 1, 3, 3)\n",
        "images = col2im(cols, img_shape, 2, 2, 2, 2, 1, 0)\n",
        "print(images)"
      ]
    },
    {
      "cell_type": "code",
      "execution_count": null,
      "metadata": {
        "id": "Fq9atpVM6-Lu"
      },
      "outputs": [],
      "source": [
        ""
      ]
    }
  ],
  "metadata": {
    "kernelspec": {
      "display_name": "Python 3",
      "language": "python",
      "name": "python3"
    },
    "language_info": {
      "codemirror_mode": {
        "name": "ipython",
        "version": 3
      },
      "file_extension": ".py",
      "mimetype": "text/x-python",
      "name": "python",
      "nbconvert_exporter": "python",
      "pygments_lexer": "ipython3",
      "version": "3.6.5"
    },
    "colab": {
      "name": "0512_im2col_col2im.ipynb",
      "provenance": [],
      "collapsed_sections": []
    }
  },
  "nbformat": 4,
  "nbformat_minor": 0
}