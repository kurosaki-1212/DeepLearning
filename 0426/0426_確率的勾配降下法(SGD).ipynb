{
  "cells": [
    {
      "cell_type": "markdown",
      "metadata": {
        "id": "cfuUjWTMWLRJ"
      },
      "source": [
        "## 6.4 ディープラーニングの実装"
      ]
    },
    {
      "cell_type": "markdown",
      "metadata": {
        "id": "VT13QHVbWLRL"
      },
      "source": [
        "### 確率的勾配降下法"
      ]
    },
    {
      "cell_type": "code",
      "execution_count": null,
      "metadata": {
        "colab": {
          "base_uri": "https://localhost:8080/",
          "height": 477
        },
        "id": "SU0A1F4jWLRM",
        "outputId": "28d530d5-a157-448f-d024-6fdceab8352a"
      },
      "outputs": [
        {
          "output_type": "stream",
          "name": "stdout",
          "text": [
            "Epoch:0/1000 Error_train:1.1073927810465725 Error_test:1.1070909284759831\n",
            "Epoch:100/1000 Error_train:0.023983694295725323 Error_test:0.07514228548167051\n",
            "Epoch:200/1000 Error_train:0.007905620109497786 Error_test:0.08654807421964482\n",
            "Epoch:300/1000 Error_train:0.003083931215164578 Error_test:0.10171160281810933\n",
            "Epoch:400/1000 Error_train:0.0016921402929101362 Error_test:0.11411433021679672\n",
            "Epoch:500/1000 Error_train:0.0011050732456303579 Error_test:0.1231186379265943\n",
            "Epoch:600/1000 Error_train:0.0007992073399811576 Error_test:0.1305198008166948\n",
            "Epoch:700/1000 Error_train:0.0006135779610340048 Error_test:0.13682958010356186\n",
            "Epoch:800/1000 Error_train:0.0004931213590421275 Error_test:0.14219715550524425\n",
            "Epoch:900/1000 Error_train:0.00040646671609119634 Error_test:0.14748116793631963\n"
          ]
        },
        {
          "output_type": "display_data",
          "data": {
            "text/plain": [
              "<Figure size 432x288 with 1 Axes>"
            ],
            "image/png": "[encoded data removed]"
          },
          "metadata": {
            "needs_background": "light"
          }
        },
        {
          "output_type": "stream",
          "name": "stdout",
          "text": [
            "Accuracy Train: 100.0% Accuracy Test: 96.0%\n"
          ]
        }
      ],
      "source": [
        "%matplotlib inline\n",
        "\n",
        "import numpy as np\n",
        "import matplotlib.pyplot as plt\n",
        "from sklearn import datasets\n",
        "\n",
        "# -- Irisデータの読み込み --\n",
        "iris_data = datasets.load_iris()\n",
        "input_data = iris_data.data\n",
        "correct = iris_data.target\n",
        "n_data = len(correct)  # サンプル数\n",
        "\n",
        "# -- 入力データを標準化する --\n",
        "ave_input = np.average(input_data, axis=0)\n",
        "std_input = np.std(input_data, axis=0)\n",
        "input_data = (input_data - ave_input) / std_input\n",
        "\n",
        "# -- 正解をone-hot表現にする --\n",
        "correct_data = np.zeros((n_data, 3))\n",
        "for i in range(n_data):\n",
        "    correct_data[i, correct[i]] = 1.0\n",
        "\n",
        "# -- 訓練データとテストデータ --\n",
        "index = np.arange(n_data) # index←[0,1,2,3…149]\n",
        "index_train = index[index%2 == 0] # index_train←[0,2,4,6…148]\n",
        "index_test = index[index%2 != 0] # index_test←[1,3,5,7…149]\n",
        "\n",
        "input_train = input_data[index_train, :]  # 訓練 入力\n",
        "correct_train = correct_data[index_train, :]  # 訓練 正解\n",
        "input_test = input_data[index_test, :]  # テスト 入力\n",
        "correct_test = correct_data[index_test, :]  # テスト 正解\n",
        "\n",
        "n_train = input_train.shape[0]  # 訓練データのサンプル数\n",
        "n_test = input_test.shape[0]  # テストデータのサンプル数\n",
        "\n",
        "# -- 各設定値 --\n",
        "n_in = 4  # 入力層のニューロン数\n",
        "n_mid = 25  # 中間層のニューロン数\n",
        "n_out = 3  # 出力層のニューロン数\n",
        "\n",
        "wb_width = 0.1  # 重みとバイアスの広がり具合\n",
        "eta = 0.01  # 学習係数\n",
        "epoch = 1000 # 学習する回数\n",
        "batch_size = 8\n",
        "interval = 100  # 経過の表示間隔\n",
        "\n",
        "\n",
        "# -- 各層の継承元 --\n",
        "class BaseLayer:\n",
        "    def __init__(self, n_upper, n):\n",
        "        self.w = wb_width * np.random.randn(n_upper, n)  # 重み（行列）\n",
        "        self.b = wb_width * np.random.randn(n)  # バイアス（ベクトル）\n",
        "\n",
        "    def update(self, eta):\n",
        "        self.w -= eta * self.grad_w\n",
        "        self.b -= eta * self.grad_b\n",
        "\n",
        "# -- 中間層 --\n",
        "class MiddleLayer(BaseLayer):\n",
        "    def forward(self, x):\n",
        "        self.x = x\n",
        "        self.u = np.dot(x, self.w) + self.b\n",
        "        self.y = np.where(self.u <= 0, 0, self.u) # ReLU\n",
        "    \n",
        "    def backward(self, grad_y):\n",
        "        delta = grad_y * np.where(self.u <= 0, 0, 1)  # ReLUの微分\n",
        "\n",
        "        self.grad_w = np.dot(self.x.T, delta)\n",
        "        self.grad_b = np.sum(delta, axis=0)\n",
        "        \n",
        "        self.grad_x = np.dot(delta, self.w.T) \n",
        "\n",
        "# -- 出力層 --\n",
        "class OutputLayer(BaseLayer):     \n",
        "    def forward(self, x):\n",
        "        self.x = x\n",
        "        u = np.dot(x, self.w) + self.b\n",
        "        self.y = np.exp(u)/np.sum(np.exp(u), axis=1, keepdims=True)  # ソフトマックス関数\n",
        "\n",
        "    def backward(self, t):\n",
        "        delta = self.y - t\n",
        "        \n",
        "        self.grad_w = np.dot(self.x.T, delta)\n",
        "        self.grad_b = np.sum(delta, axis=0)\n",
        "        \n",
        "        self.grad_x = np.dot(delta, self.w.T) \n",
        "        \n",
        "\n",
        "# -- 各層の初期化 --\n",
        "middle_layer_1 = MiddleLayer(n_in, n_mid)\n",
        "middle_layer_2 = MiddleLayer(n_mid, n_mid)\n",
        "output_layer = OutputLayer(n_mid, n_out)\n",
        "\n",
        "# -- 順伝播 --\n",
        "def forward_propagation(x):\n",
        "    middle_layer_1.forward(x)\n",
        "    middle_layer_2.forward(middle_layer_1.y)\n",
        "    output_layer.forward(middle_layer_2.y)\n",
        "\n",
        "# -- 逆伝播 --\n",
        "def backpropagation(t):\n",
        "    output_layer.backward(t)\n",
        "    middle_layer_2.backward(output_layer.grad_x)\n",
        "    middle_layer_1.backward(middle_layer_2.grad_x)\n",
        "\n",
        "# -- 重みとバイアスの更新 --\n",
        "def uppdate_wb():\n",
        "    middle_layer_1.update(eta)\n",
        "    middle_layer_2.update(eta)\n",
        "    output_layer.update(eta)\n",
        "\n",
        "# -- 誤差を計算 --\n",
        "def get_error(t, batch_size):\n",
        "    return -np.sum(t * np.log(output_layer.y + 1e-7)) / batch_size  # 交差エントロピー誤差\n",
        "\n",
        "\n",
        "# -- 誤差の記録用 --\n",
        "train_error_x = []\n",
        "train_error_y = []\n",
        "test_error_x = []\n",
        "test_error_y = []\n",
        "\n",
        "# -- 学習と経過の記録 --\n",
        "n_batch = n_train // batch_size  # 1エポックあたりのバッチ数\n",
        "for i in range(epoch):\n",
        "\n",
        "    # -- 誤差の計測 --  \n",
        "    forward_propagation(input_train)\n",
        "    error_train = get_error(correct_train, n_train)\n",
        "    forward_propagation(input_test)\n",
        "    error_test = get_error(correct_test, n_test)\n",
        "    \n",
        "    # -- 誤差の記録 -- \n",
        "    test_error_x.append(i)\n",
        "    test_error_y.append(error_test) \n",
        "    train_error_x.append(i)\n",
        "    train_error_y.append(error_train) \n",
        "    \n",
        "    # -- 経過の表示 -- \n",
        "    if i%interval == 0:\n",
        "        print(\"Epoch:\" + str(i) + \"/\" + str(epoch),\n",
        "              \"Error_train:\" + str(error_train),\n",
        "              \"Error_test:\" + str(error_test))\n",
        "\n",
        "    # -- 学習 -- \n",
        "    index_random = np.arange(n_train)\n",
        "    np.random.shuffle(index_random)  # インデックスをシャッフルする\n",
        "    for j in range(n_batch):\n",
        "        \n",
        "        # ミニバッチを取り出す\n",
        "        mb_index = index_random[j*batch_size : (j+1)*batch_size]\n",
        "        x = input_train[mb_index, :]\n",
        "        t = correct_train[mb_index, :]\n",
        "        \n",
        "        # 順伝播と逆伝播\n",
        "        forward_propagation(x)\n",
        "        backpropagation(t)\n",
        "        \n",
        "        # 重みとバイアスの更新\n",
        "        uppdate_wb()\n",
        "\n",
        "        \n",
        "# -- 誤差の記録をグラフ表示 -- \n",
        "plt.plot(train_error_x, train_error_y, label=\"Train\")\n",
        "plt.plot(test_error_x, test_error_y, label=\"Test\")\n",
        "plt.legend()\n",
        "\n",
        "plt.xlabel(\"Epochs\")\n",
        "plt.ylabel(\"Error\")\n",
        "\n",
        "plt.show()\n",
        "\n",
        "# -- 正解率の測定 -- \n",
        "forward_propagation(input_train)\n",
        "count_train = np.sum(np.argmax(output_layer.y, axis=1) == np.argmax(correct_train, axis=1))\n",
        "\n",
        "forward_propagation(input_test)\n",
        "count_test = np.sum(np.argmax(output_layer.y, axis=1) == np.argmax(correct_test, axis=1))\n",
        "\n",
        "print(\"Accuracy Train:\", str(count_train/n_train*100) + \"%\",\n",
        "      \"Accuracy Test:\", str(count_test/n_test*100) + \"%\")"
      ]
    },
    {
      "cell_type": "code",
      "execution_count": null,
      "metadata": {
        "id": "6nSbpJwUWLRT"
      },
      "outputs": [],
      "source": [
        ""
      ]
    }
  ],
  "metadata": {
    "kernelspec": {
      "display_name": "Python 3",
      "language": "python",
      "name": "python3"
    },
    "language_info": {
      "codemirror_mode": {
        "name": "ipython",
        "version": 3
      },
      "file_extension": ".py",
      "mimetype": "text/x-python",
      "name": "python",
      "nbconvert_exporter": "python",
      "pygments_lexer": "ipython3",
      "version": "3.6.5"
    },
    "colab": {
      "name": "0426_確率的勾配降下法(SGD).ipynb",
      "provenance": [],
      "collapsed_sections": []
    }
  },
  "nbformat": 4,
  "nbformat_minor": 0
}