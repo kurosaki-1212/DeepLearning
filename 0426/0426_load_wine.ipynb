{
  "nbformat": 4,
  "nbformat_minor": 0,
  "metadata": {
    "colab": {
      "name": "0426_load_wine.ipynb",
      "provenance": [],
      "collapsed_sections": []
    },
    "kernelspec": {
      "name": "python3",
      "display_name": "Python 3"
    },
    "language_info": {
      "name": "python"
    }
  },
  "cells": [
    {
      "cell_type": "code",
      "execution_count": null,
      "metadata": {
        "id": "viwhkrJAxloC"
      },
      "outputs": [],
      "source": [
        "from sklearn import datasets\n",
        "import numpy as np\n",
        "\n",
        "wine_data = datasets.load_wine()\n",
        "input_data = wine_data.data\n",
        "correct_data = wine_data.target\n",
        "\n",
        "correct_data"
      ]
    },
    {
      "cell_type": "code",
      "source": [
        "# データセットの概要を確認\n",
        "print(wine_data.DESCR)"
      ],
      "metadata": {
        "id": "SKi89I2Q8Dvd"
      },
      "execution_count": null,
      "outputs": []
    },
    {
      "cell_type": "markdown",
      "source": [
        "説明変数\n",
        "1. alcohol アルコール度数\n",
        "2. malic_acid リンゴ酸\n",
        "3. ash 灰\n",
        "4. alcalinity_of_ash アルカリ成分\n",
        "5. magnesium マグネシウム\n",
        "6. total_phenols 総フェノール類量\n",
        "7. flavanoids フラボノイド（ポリフェノール）\n",
        "8. nonflavanoid_phenols 非フラボノイドフェノール類\n",
        "9. proanthocyanins プロアントシアニジン（ポリフェノールの種類）\n",
        "10. color_intensity 色の強さ\n",
        "11. hue 色合い\n",
        "12. od280/od315_of_diluted_wines ワインの希釈度合い\n",
        "13. proline プロリン（アミノ酸）\n",
        "\n",
        "目的変数\n",
        "14. ワインの品種"
      ],
      "metadata": {
        "id": "4Cg2wmqA7ELK"
      }
    },
    {
      "cell_type": "code",
      "source": [
        "import pandas as pd\n",
        "from sklearn import datasets\n",
        "\n",
        "wine_data = datasets.load_wine()\n",
        "wine_df = pd.DataFrame(wine_data.data, columns=wine_data.feature_names)\n",
        "wine_df.head()"
      ],
      "metadata": {
        "id": "-zYmXT3D68Kg"
      },
      "execution_count": null,
      "outputs": []
    },
    {
      "cell_type": "code",
      "source": [
        "wine_df_tgt = pd.DataFrame(wine_data.target, columns=['target'])\n",
        "wine_df_tgt.head()"
      ],
      "metadata": {
        "id": "M53OMxTT7clS"
      },
      "execution_count": null,
      "outputs": []
    },
    {
      "cell_type": "code",
      "source": [
        "# ワインの種類が何種類あるか確認する\n",
        "# np.unique(wine_df_tgt)\n",
        "wine_df_tgt['target'].unique()"
      ],
      "metadata": {
        "id": "G4m-N003805S"
      },
      "execution_count": null,
      "outputs": []
    },
    {
      "cell_type": "code",
      "source": [
        "# 欠損値の確認\n",
        "wine_df.isnull().sum()"
      ],
      "metadata": {
        "id": "z8D_gBpe8hBy"
      },
      "execution_count": null,
      "outputs": []
    }
  ]
}