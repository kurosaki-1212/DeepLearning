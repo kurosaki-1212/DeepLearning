{
  "nbformat": 4,
  "nbformat_minor": 0,
  "metadata": {
    "colab": {
      "name": "0418_ニューラルネットワーク.ipynb",
      "provenance": [],
      "collapsed_sections": []
    },
    "kernelspec": {
      "name": "python3",
      "display_name": "Python 3"
    },
    "language_info": {
      "name": "python"
    }
  },
  "cells": [
    {
      "cell_type": "markdown",
      "source": [
        "# P123 単一ニューロンの実装"
      ],
      "metadata": {
        "id": "I8PKiX18iQ1l"
      }
    },
    {
      "cell_type": "code",
      "execution_count": null,
      "metadata": {
        "colab": {
          "base_uri": "https://localhost:8080/",
          "height": 269
        },
        "id": "N1swEe5Qb1ZH",
        "outputId": "ff21eeae-8b64-4ad3-faec-7ba669de98ee"
      },
      "outputs": [
        {
          "output_type": "display_data",
          "data": {
            "text/plain": [
              "<Figure size 432x288 with 2 Axes>"
            ],
            "image/png": "[encoded data removed]"
          },
          "metadata": {
            "needs_background": "light"
          }
        }
      ],
      "source": [
        "%matplotlib inline\n",
        "\n",
        "import numpy as np\n",
        "import matplotlib.pyplot as plt\n",
        "\n",
        "# x、y座標\n",
        "X = np.arange(-1.0, 1.0, 0.2)  # 要素数は10個\n",
        "Y = np.arange(-1.0, 1.0, 0.2)\n",
        "\n",
        "# 出力を格納する10x10のグリッド\n",
        "Z = np.zeros((10,10))\n",
        "\n",
        "# x、y座標の入力の重み\n",
        "w_x = 2.5\n",
        "w_y = 3.0\n",
        "\n",
        "# バイアス\n",
        "bias = 0.1\n",
        "\n",
        "# グリッドの各マスでニューロンの演算\n",
        "for i in range(10):\n",
        "  for j in range(10):\n",
        "    # 入力の重みの積の総和+バイアス\n",
        "    u = X[i]*w_x + Y[j]*w_y + bias\n",
        "    # グリッドに出力を格納\n",
        "    y = 1/(1+np.exp(-u)) # シグモイド関数\n",
        "    Z[j][i] = y\n",
        "\n",
        "# グリッドの表示\n",
        "plt.imshow(Z, \"gray\", vmin = 0.0, vmax = 1.0)\n",
        "plt.colorbar()  \n",
        "plt.show()"
      ]
    },
    {
      "cell_type": "markdown",
      "source": [
        "# P129 ニューラルネットワーク（回帰）"
      ],
      "metadata": {
        "id": "nAI2ZU66jMo4"
      }
    },
    {
      "cell_type": "code",
      "source": [
        "%matplotlib inline\n",
        "\n",
        "import numpy as np\n",
        "import matplotlib.pyplot as plt\n",
        "\n",
        "# x、y座標\n",
        "X = np.arange(-1.0, 1.0, 0.2)  # 要素数は10個\n",
        "Y = np.arange(-1.0, 1.0, 0.2)\n",
        "\n",
        "# 出力を格納する10x10のグリッド\n",
        "Z = np.zeros((10,10))\n",
        "\n",
        "# 重み\n",
        "w_im = np.array([[4.0, 4.0],\n",
        "                 [4.0, 4.0]]) # 中間層2×2の行列\n",
        "w_mo = np.array([[1.0], \n",
        "                 [-1.0]]) # 出力層2×1の行列\n",
        "\n",
        "# バイアス\n",
        "b_im = np.array([3.0, -3.0]) # 中間層\n",
        "b_mo = np.array([0.1]) # 出力層\n",
        "\n",
        "# 中間層\n",
        "def middle_layer(x, w, b):\n",
        "  u = np.dot(x, w) + b\n",
        "  return 1/(1+np.exp(-u)) # シグモイド関数\n",
        "\n",
        "\n",
        "# 出力層\n",
        "def output_layer(x, w, b):\n",
        "  u = np.dot(x, w) + b\n",
        "  return u # 恒等関数\n",
        "\n",
        "\n",
        "# グリッドの各マスでニューラルネットワークの演算\n",
        "for i in range(10):\n",
        "  for j in range(10):\n",
        "\n",
        "    # 順伝播\n",
        "    inp = np.array([X[i], Y[j]]) # 入力層\n",
        "    mid = middle_layer(inp, w_im, b_im) # 中間層\n",
        "    out = output_layer(mid, w_mo, b_mo) # 出力層\n",
        "\n",
        "    # グリッドにNNの出力を格納\n",
        "    Z[j][i] = out[0]\n",
        "\n",
        "# グリッドの表示\n",
        "plt.imshow(Z, \"gray\", vmin = 0.0, vmax = 1.0)\n",
        "plt.colorbar()  \n",
        "plt.show()"
      ],
      "metadata": {
        "colab": {
          "base_uri": "https://localhost:8080/",
          "height": 269
        },
        "id": "AUpiYelHij_L",
        "outputId": "1dc051c6-1082-4841-bece-a59b6a95e534"
      },
      "execution_count": null,
      "outputs": [
        {
          "output_type": "display_data",
          "data": {
            "text/plain": [
              "<Figure size 432x288 with 2 Axes>"
            ],
            "image/png": "[encoded data removed]"
          },
          "metadata": {
            "needs_background": "light"
          }
        }
      ]
    },
    {
      "cell_type": "markdown",
      "source": [
        "# P129 ニューラルネットワーク（分類）"
      ],
      "metadata": {
        "id": "BW61zwTejlor"
      }
    },
    {
      "cell_type": "code",
      "source": [
        "%matplotlib inline\n",
        "\n",
        "import numpy as np\n",
        "import matplotlib.pyplot as plt\n",
        "\n",
        "# x、y座標\n",
        "X = np.arange(-1.0, 1.0, 0.1)  # 要素数は20個\n",
        "Y = np.arange(-1.0, 1.0, 0.1)\n",
        "\n",
        "# 重み\n",
        "w_im = np.array([[1.0, 2.0],\n",
        "                 [2.0, 3.0]]) # 中間層2×2の行列\n",
        "w_mo = np.array([[-1.0, 1.0],\n",
        "                 [1.0, -1.0]]) # 出力層2×2の行列\n",
        "\n",
        "# バイアス\n",
        "b_im = np.array([0.3, -0.3]) # 中間層\n",
        "b_mo = np.array([0.4, 0.1]) # 出力層\n",
        "\n",
        "# 中間層\n",
        "def middle_layer(x, w, b):\n",
        "  u = np.dot(w, x) + b\n",
        "  return 1/(1+np.exp(-u)) # シグモイド関数\n",
        "\n",
        "# 出力層\n",
        "def output_layer(x, w, b):\n",
        "  u = np.dot(x, w) + b\n",
        "  return np.exp(u)/np.sum(np.exp(u)) # ソフトマックス関数\n",
        "\n",
        "\n",
        "# 分類結果を格納するリスト\n",
        "x_1 = []\n",
        "y_1 = []\n",
        "x_2 = []\n",
        "y_2 = []\n",
        "\n",
        "# グリッドの各マスでニューラルネットワークの演算\n",
        "for i in range(20):\n",
        "    for j in range(20):\n",
        "        \n",
        "        # 順伝播\n",
        "        inp = np.array([X[i], Y[j]])\n",
        "        mid = middle_layer(inp, w_im, b_im)\n",
        "        out = output_layer(mid, w_mo, b_mo)\n",
        "        \n",
        "        # 確率の大小を比較し、分類する\n",
        "        if out[0] > out[1]:\n",
        "          x_1.append(X[i])\n",
        "          y_1.append(Y[j])\n",
        "        else:\n",
        "          x_2.append(X[i])\n",
        "          y_2.append(Y[j])\n",
        "\n",
        "# 散布図の表示\n",
        "plt.scatter(x_1, y_1, marker=\"+\")\n",
        "plt.scatter(x_2, y_2, marker=\"o\")\n",
        "plt.show()"
      ],
      "metadata": {
        "colab": {
          "base_uri": "https://localhost:8080/",
          "height": 265
        },
        "id": "VV2dp9lfjtYB",
        "outputId": "13a62797-7223-4acb-fab0-351ac5953564"
      },
      "execution_count": null,
      "outputs": [
        {
          "output_type": "display_data",
          "data": {
            "text/plain": [
              "<Figure size 432x288 with 1 Axes>"
            ],
            "image/png": "[encoded data removed]"
          },
          "metadata": {
            "needs_background": "light"
          }
        }
      ]
    },
    {
      "cell_type": "code",
      "source": [
        "%matplotlib inline\n",
        "\n",
        "import numpy as np\n",
        "import matplotlib.pyplot as plt\n",
        "\n",
        "# x、y座標\n",
        "X = np.arange(-1.0, 1.0, 0.1)  # 要素数は20個\n",
        "Y = np.arange(-1.0, 1.0, 0.1)\n",
        "\n",
        "# 重み\n",
        "w_im = np.array([[2.0, 1.0],\n",
        "                 [0.0, 3.0]]) # 中間層2×2の行列\n",
        "w_mo = np.array([[-2.0, 1.0],\n",
        "                 [-1.0, 1.0]]) # 出力層2×2の行列\n",
        "\n",
        "# バイアス\n",
        "b_im = np.array([-0.3, -0.3]) # 中間層\n",
        "b_mo = np.array([0.4, -1.2]) # 出力層\n",
        "\n",
        "# 中間層\n",
        "def middle_layer(x, w, b):\n",
        "  u = np.dot(x, w) + b\n",
        "  return 1/(1+np.exp(-u)) # シグモイド関数\n",
        "\n",
        "# 出力層\n",
        "def output_layer(x, w, b):\n",
        "  u = np.dot(x, w) + b\n",
        "  return np.exp(u)/np.sum(np.exp(u)) # ソフトマックス関数\n",
        "\n",
        "\n",
        "# 分類結果を格納するリスト\n",
        "x_1 = []\n",
        "y_1 = []\n",
        "x_2 = []\n",
        "y_2 = []\n",
        "\n",
        "# グリッドの各マスでニューラルネットワークの演算\n",
        "for i in range(20):\n",
        "    for j in range(20):\n",
        "        \n",
        "        # 順伝播\n",
        "        inp = np.array([X[i], Y[j]])\n",
        "        mid = middle_layer(inp, w_im, b_im)\n",
        "        out = output_layer(mid, w_mo, b_mo)\n",
        "        \n",
        "        # 確率の大小を比較し、分類する\n",
        "        if out[0] > out[1]:\n",
        "          x_1.append(X[i])\n",
        "          y_1.append(Y[j])\n",
        "        else:\n",
        "          x_2.append(X[i])\n",
        "          y_2.append(Y[j])\n",
        "\n",
        "# 散布図の表示\n",
        "plt.scatter(x_1, y_1, marker=\"+\")\n",
        "plt.scatter(x_2, y_2, marker=\"o\")\n",
        "plt.show()"
      ],
      "metadata": {
        "colab": {
          "base_uri": "https://localhost:8080/",
          "height": 265
        },
        "id": "ySd3n-Ius7qX",
        "outputId": "afa66fbb-8314-42ad-cd7e-3439854731c1"
      },
      "execution_count": null,
      "outputs": [
        {
          "output_type": "display_data",
          "data": {
            "text/plain": [
              "<Figure size 432x288 with 1 Axes>"
            ],
            "image/png": "[encoded data removed]"
          },
          "metadata": {
            "needs_background": "light"
          }
        }
      ]
    }
  ]
}