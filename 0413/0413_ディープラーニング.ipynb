{
  "nbformat": 4,
  "nbformat_minor": 0,
  "metadata": {
    "colab": {
      "name": "0413_ディープラーニング.ipynb",
      "provenance": [],
      "collapsed_sections": []
    },
    "kernelspec": {
      "name": "python3",
      "display_name": "Python 3"
    },
    "language_info": {
      "name": "python"
    }
  },
  "cells": [
    {
      "cell_type": "code",
      "source": [
        "import numpy as np\n",
        "\n",
        "a = np.array([1, 2, 3, 4, 5])\n",
        "print(np.sum(a))"
      ],
      "metadata": {
        "colab": {
          "base_uri": "https://localhost:8080/"
        },
        "id": "xCFt6H8-xiYo",
        "outputId": "37d911c2-57c7-4d38-9290-d0e3e33b43a3"
      },
      "execution_count": null,
      "outputs": [
        {
          "output_type": "stream",
          "name": "stdout",
          "text": [
            "15\n"
          ]
        }
      ]
    },
    {
      "cell_type": "code",
      "source": [
        "a = np.array([2, 1, 2, 1, 2])\n",
        "b = np.array([1, 2, 1, 2, 1])\n",
        "\n",
        "print(np.sum(a * b))"
      ],
      "metadata": {
        "colab": {
          "base_uri": "https://localhost:8080/"
        },
        "id": "6HhORtJhxln7",
        "outputId": "b375027c-a77a-453e-ac67-e586d71efc3d"
      },
      "execution_count": null,
      "outputs": [
        {
          "output_type": "stream",
          "name": "stdout",
          "text": [
            "10\n"
          ]
        }
      ]
    },
    {
      "cell_type": "code",
      "source": [
        "print('3の3乗は', 3**3)\n",
        "print('5の5乗は', 5**5)\n",
        "print('-5の2乗は', -5**2)\n",
        "print('-0.2の3乗は{:.3f}'.format(-0.2**3))"
      ],
      "metadata": {
        "colab": {
          "base_uri": "https://localhost:8080/"
        },
        "id": "IxlqCggwyJIe",
        "outputId": "6c690246-4549-416a-843e-852edcbfc566"
      },
      "execution_count": null,
      "outputs": [
        {
          "output_type": "stream",
          "name": "stdout",
          "text": [
            "3の3乗は 27\n",
            "5の5乗は 3125\n",
            "-5の2乗は -25\n",
            "-0.2の3乗は-0.008\n"
          ]
        }
      ]
    },
    {
      "cell_type": "markdown",
      "source": [
        "ネイピア数（2.7182818...）をNumpyの定数を使ってprintで表示しましょう\n",
        "\n",
        "*   Numpyでeを使って取得\n",
        "*   ネイピア数の累乗をNumpyのexp関数で実装"
      ],
      "metadata": {
        "id": "mFvOvqL6d5k0"
      }
    },
    {
      "cell_type": "code",
      "execution_count": null,
      "metadata": {
        "colab": {
          "base_uri": "https://localhost:8080/"
        },
        "id": "G81lSjlKdzU6",
        "outputId": "71373934-1a96-4a6c-d92e-64fa8ffdf4a2"
      },
      "outputs": [
        {
          "output_type": "stream",
          "name": "stdout",
          "text": [
            "2.718281828459045\n",
            "2.718281828459045\n"
          ]
        }
      ],
      "source": [
        "import numpy as np\n",
        "\n",
        "# ネイピア数\n",
        "print(np.e)\n",
        "# eの1乗\n",
        "print(np.exp(1))"
      ]
    },
    {
      "cell_type": "markdown",
      "source": [
        "①テキストP69を参考に自然対数を取得する関数を定義してみよう。\n",
        "\n",
        "②1の自然対数、10の自然対数、eの自然対数を表示しましょう。"
      ],
      "metadata": {
        "id": "CyvC4o0y3JS2"
      }
    },
    {
      "cell_type": "code",
      "source": [
        "import numpy as np\n",
        "\n",
        "def get_log(x):\n",
        "  return np.log(x)\n",
        "\n",
        "print(get_log(1))\n",
        "print(get_log(10))\n",
        "print(get_log(np.e))"
      ],
      "metadata": {
        "colab": {
          "base_uri": "https://localhost:8080/"
        },
        "id": "cksDhZX53Iry",
        "outputId": "4a9ebfc9-5ed0-489a-d19c-c3047518f0e2"
      },
      "execution_count": null,
      "outputs": [
        {
          "output_type": "stream",
          "name": "stdout",
          "text": [
            "0.0\n",
            "2.302585092994046\n",
            "1.0\n"
          ]
        }
      ]
    },
    {
      "cell_type": "markdown",
      "source": [
        "**Pythoの数値表現の補足**\n",
        "\n",
        "1.2e5 → 1.2 * 10の5乗 → 1.2* 100000 → 120000\n",
        "\n",
        "0.5e-1 → 0.5 * 10のマイナス1乗 → 0.5 * 0.1 → 0.05"
      ],
      "metadata": {
        "id": "-6dtbH_S8smF"
      }
    },
    {
      "cell_type": "markdown",
      "source": [
        "変数 a に 200000\n",
        "変数 b に 15000000\n",
        "変数 c に 500000 \n",
        "変数 d に 0.04 を代入しそれぞれprintで表示しなさい。\n",
        "\n",
        "ただし、e表記を使って代入すること。\n"
      ],
      "metadata": {
        "id": "mEHDgZQl9Ej8"
      }
    },
    {
      "cell_type": "code",
      "source": [
        "a = 2e5\n",
        "b = 1.5e7\n",
        "c = 0.5e6\n",
        "d = 0.4e-1\n",
        "\n",
        "print(a)\n",
        "print(b)\n",
        "print(c)\n",
        "print(d)"
      ],
      "metadata": {
        "colab": {
          "base_uri": "https://localhost:8080/"
        },
        "id": "ZJWoHbVf7o0t",
        "outputId": "40fdb10f-adb5-48cd-c332-aa7ad7364428"
      },
      "execution_count": null,
      "outputs": [
        {
          "output_type": "stream",
          "name": "stdout",
          "text": [
            "200000.0\n",
            "15000000.0\n",
            "500000.0\n",
            "0.04\n"
          ]
        }
      ]
    },
    {
      "cell_type": "markdown",
      "source": [
        "**ベクトル**\n",
        "\n",
        "Numpyのarrayを使って、以下の要素を持つベクトルを定義し、printで表示してください。\n",
        "\n",
        "11,12,13,14,15,16,17,18,19,20\n",
        "\n",
        "※可能な人はrangeを使ってベクトルの定義を行いましょう。"
      ],
      "metadata": {
        "id": "1BH0P2IP-xK8"
      }
    },
    {
      "cell_type": "code",
      "source": [
        "a = np.array([11, 12, 13, 14, 15, 16, 17, 18, 19, 20])\n",
        "b = np.array(range(11, 21))\n",
        "\n",
        "print(a)\n",
        "print(b)"
      ],
      "metadata": {
        "colab": {
          "base_uri": "https://localhost:8080/"
        },
        "id": "O6RcRAxd_JbO",
        "outputId": "4a979bfb-0bfc-4b37-c81f-f72ac66e3750"
      },
      "execution_count": null,
      "outputs": [
        {
          "output_type": "stream",
          "name": "stdout",
          "text": [
            "[11 12 13 14 15 16 17 18 19 20]\n",
            "[11 12 13 14 15 16 17 18 19 20]\n"
          ]
        }
      ]
    },
    {
      "cell_type": "markdown",
      "source": [
        "**行列**\n",
        "\n",
        "Numpyのarrayを使って、以下のような行列を定義し、printで表示してください。\n",
        "\n",
        "![image.png](data:image/png;base64,iVBORw0KGgoAAAANSUhEUgAAAJkAAABPCAYAAAD4O2eIAAACaklEQVR4nO3dQXLCMBBE0VGK23D/m8B5nBUpxQFrFGhPG/5bJSt3iY6tuDRJu1wuSwBCp4iI8/lcneOP6/VKrgnOub6qQ+D9UTLIUTLIUTLIUTLIUTLIUTLInSov3lqLZfF6F9xa+/naJVuf6cYhWzZXWcnuBay2Lr3TD4FLjt4606PPtOxx6bho0GBP1qH4/7d11y/dkyHPca+YRclWXD9M171iBiVbcfwwHTI8gz0Znjb6YaRkHcfXKhG+ubIoGeTYk3WWZbHc+LvmyiotmeNiOWaK8M0VMc7G4xJylAxylAxylAxylAxyjQlyqDFBPolcc5ggxy4oGeQoGeQoGeQoGeQoGeQoGeQshnv3PsYyOi5cdbZ/67qO62U9QV45qT06ylx11Hnrus7rlcnxcY/L0aJUHQ50PZT4ilwfV7Ijci1gFmf88ZTMXrG8ZEcf99qL6yBJZq9YUrJ++mY9iYP7jjzZXnYnc1gk7KNk48+da47remVz8dsl5Mr3ZLfv8ZjremVzfeSe7IgvZF3Xizf+sEDJIEfJIEfJIEfJIMcEOeSYIJ9ErjlMkGMXlAxylAxylAxylAxylAxylAxy0qM+z04eqzhOameuW3G2f5Sr9DzZ1tHc7P+uVnCc1M5ct+II9ihXdr1kj0uX05trrrlGjpo7wmBP5jLehXnZz628ZPCcqYx4Xa7yCXJXrmNobqwHSRxVT7Y73cV6W7ls/0zBjeOiVuVxXIuI1+RiT9bhETmHCfIDeee7WAR7sl8qJ7XXdwWX0m3lspggZ1I7J3vNvbNlrscEOSxQMshRMshRMshRMsgxQQ65b9Z1mmWwFdWsAAAAAElFTkSuQmCC)\n"
      ],
      "metadata": {
        "id": "Ow0yKYHYAtEw"
      }
    },
    {
      "cell_type": "code",
      "source": [
        "a = np.array([[1, 3, 5, 7], [9, 11, 13, 15], [17, 19, 21, 23]])\n",
        "print(a)\n",
        "\n",
        "b = np.array(range(1, 24, 2))\n",
        "c = b.reshape([3, 4])\n",
        "print(np.array(c))"
      ],
      "metadata": {
        "colab": {
          "base_uri": "https://localhost:8080/"
        },
        "id": "i5mUNsFDBUGw",
        "outputId": "2385096a-da6f-4462-be89-89d515f70201"
      },
      "execution_count": null,
      "outputs": [
        {
          "output_type": "stream",
          "name": "stdout",
          "text": [
            "[[ 1  3  5  7]\n",
            " [ 9 11 13 15]\n",
            " [17 19 21 23]]\n",
            "[[ 1  3  5  7]\n",
            " [ 9 11 13 15]\n",
            " [17 19 21 23]]\n"
          ]
        }
      ]
    },
    {
      "cell_type": "markdown",
      "source": [
        "Numpyを使った行列積\n",
        "\n",
        "①以下のとおりの行列を定義する。\n",
        "\n",
        "a = \n",
        "![image.png](data:image/png;base64,iVBORw0KGgoAAAANSUhEUgAAAJEAAAAlCAYAAABCgwtAAAABG0lEQVR4nO3b0Q6CMAyF4VPD2/D+b8L7zAuiUaSjpiCY/l/i/bIcu60bNk1TE5AwSNI4jmeP47LMTK3xP/OYmW5nDwL/jxAhjRAhjRBpXtexzsyeP8/ww/FcEgHyLQ8V3iGjfCXi5JVXPkTII0RwRZYyiRBhB4QIm7a69oQIXZFrH0KENEIEV/TyuXyzEX3LZuxaqAiRaDh6ovPCcoa0QeL+aAvz0zdIlPMeXjb28bIRuyBESCNESCsfosjLPcy8OSrdJ4q+3EP/hFq+EiGvdIioOjE8BcHhSu+JpPe1nsr0KbJPLB8iNtZ5LGdwPar0awtk7ZRWuhJRefqWc8PHizhM6UrUWmNjvYPSIZIIzjf4eBGH4WVjAPPTdwdQmFt7h0Xl2AAAAABJRU5ErkJggg==)\n",
        "\n",
        "b = ![image.png](data:image/png;base64,iVBORw0KGgoAAAANSUhEUgAAAJEAAAAlCAYAAABCgwtAAAABBklEQVR4nO3aSw7CMAxF0WeU3XT/O+l+wgSktjQ/XDUg3zNkFFkPYgfbuq5ZgEOSpGVZZp/jZ5mZcuZ7VmJmesw+BP4fIYIbIYJbmn2Amczs4zP6n71tjUq1CR0iidDUHIeK0pDBdQY3QoRuXGcFPXd+dO8aEaKCnjs/sm1N6IlOEJi2nhqFDhGuETpEZ+9EGBc6RLhG6MY658x0VtFbn9AhkghOC401bpEkGswW6lOXJH7Sa3iArGOzEZcgRHAjRHALPeKz2djGO1HDsShMYXtsNuI2hOiFUf57hAhuoXsi1PEHLNxorAfQD/kQIrgRIrjRE6GIxnoA/VAZm424BZuNHahP3RMX8XZR8EQnTgAAAABJRU5ErkJggg==)\n",
        "\n",
        "aとbの行列積をdot関数を使って求め、結果をprintで表示してください。"
      ],
      "metadata": {
        "id": "rFU09dW7cJAc"
      }
    },
    {
      "cell_type": "code",
      "source": [
        "a = np.array([[1, 2],\n",
        "              [3, 4]])\n",
        "b = np.array([[5, 6],\n",
        "              [7, 8]])\n",
        "\n",
        "print(np.dot(a, b))\n",
        "# かける数とかけられる数が逆になると答えが変わる\n",
        "print(np.dot(b, a))"
      ],
      "metadata": {
        "colab": {
          "base_uri": "https://localhost:8080/"
        },
        "id": "8n_Jc0WybmPE",
        "outputId": "bffb7aa7-9f43-49e8-f5af-23b54aca8cc6"
      },
      "execution_count": null,
      "outputs": [
        {
          "output_type": "stream",
          "name": "stdout",
          "text": [
            "[[19 22]\n",
            " [43 50]]\n",
            "[[23 34]\n",
            " [31 46]]\n"
          ]
        }
      ]
    }
  ]
}